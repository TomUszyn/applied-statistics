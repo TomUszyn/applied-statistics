{
 "cells": [
  {
   "cell_type": "markdown",
   "id": "e442231a",
   "metadata": {},
   "source": [
    "# Assessment Problems"
   ]
  },
  {
   "cell_type": "markdown",
   "id": "88e1cc2e",
   "metadata": {},
   "source": [
    "***\n",
    "***"
   ]
  },
  {
   "cell_type": "markdown",
   "id": "7675417c",
   "metadata": {},
   "source": [
    "## Problem 1: Extending the Lady Tasting Tea"
   ]
  },
  {
   "cell_type": "markdown",
   "id": "a1cae97d",
   "metadata": {},
   "source": [
    "---"
   ]
  },
  {
   "cell_type": "markdown",
   "id": "effddd41",
   "metadata": {},
   "source": [
    "### Research and Development"
   ]
  },
  {
   "cell_type": "markdown",
   "id": "44c2367e",
   "metadata": {},
   "source": [
    "---"
   ]
  },
  {
   "cell_type": "markdown",
   "id": "3634e001",
   "metadata": {},
   "source": [
    "#### Research Context"
   ]
  },
  {
   "cell_type": "markdown",
   "id": "c4b13158",
   "metadata": {},
   "source": [
    "The [*Lady Tasting Tea*](https://en.wikipedia.org/wiki/Lady_tasting_tea) experiment, introduced by Sir Ronald A. Fisher in 1935, is a classic example of **design of experiments** and **hypothesis testing**.\n",
    "A lady claimed she could distinguish whether milk was poured into a cup before or after the tea was added.\n",
    "\n",
    "The original experiment used eight cups: four milk-first ('M') and four tea-first ('T').\n",
    "The probability of perfectly identifying the milk-first cups by chance was very low (~0.0143).\n",
    "\n",
    "Extending the experiment to twelve cups, with four milk-first and eight tea-first, allows us to **estimate the likelihood of success by chance in a larger experiment**."
   ]
  },
  {
   "cell_type": "markdown",
   "id": "6488fe7a",
   "metadata": {},
   "source": [
    "---"
   ]
  },
  {
   "cell_type": "markdown",
   "id": "434a1291",
   "metadata": {},
   "source": [
    "#### Development Considerations"
   ]
  },
  {
   "cell_type": "markdown",
   "id": "f6282c22",
   "metadata": {},
   "source": [
    "* **Representation:** Using 'M' and 'T' provides a clear and simple way to distinguish between milk-first and tea-first cups.  \n",
    "* **Randomisation:** Each trial is independent, reflecting the null hypothesis.  \n",
    "* **Simulation scale:** The experiment uses simple loop-based logic to maintain clarity and transparency in the implementation. \n",
    "* **Statistical insight:** Demonstrates probability estimation with explicit loops.  "
   ]
  },
  {
   "cell_type": "markdown",
   "id": "59c79057",
   "metadata": {},
   "source": [
    "***"
   ]
  },
  {
   "cell_type": "markdown",
   "id": "7098bef8",
   "metadata": {},
   "source": [
    "#### Hypotheses"
   ]
  },
  {
   "cell_type": "markdown",
   "id": "369d0f8e",
   "metadata": {},
   "source": [
    "**Null Hypothesis (H₀):**  \n",
    "The lady cannot distinguish between milk-first and tea-first cups beyond random chance.  \n",
    "\n",
    "**Alternative Hypothesis (H₁):**  \n",
    "The lady can distinguish milk-first from tea-first cups with accuracy greater than chance."
   ]
  },
  {
   "cell_type": "markdown",
   "id": "567e7e21",
   "metadata": {},
   "source": [
    "---"
   ]
  },
  {
   "cell_type": "markdown",
   "id": "1c051ec0",
   "metadata": {},
   "source": [
    "### Experiment Setup"
   ]
  },
  {
   "cell_type": "markdown",
   "id": "06db7194",
   "metadata": {},
   "source": [
    "---"
   ]
  },
  {
   "cell_type": "markdown",
   "id": "06bf382d",
   "metadata": {},
   "source": [
    "The process begins with the import of NumPy, which provides the foundation for randomisation and numerical computations throughout the experiment."
   ]
  },
  {
   "cell_type": "code",
   "execution_count": 9,
   "id": "d2662756",
   "metadata": {},
   "outputs": [],
   "source": [
    "import numpy as np\n"
   ]
  },
  {
   "cell_type": "markdown",
   "id": "93d7f16d",
   "metadata": {},
   "source": [
    "Before running the experiment, a fixed random seed is set so that NumPy gives the same random choices every time. This makes the results easier to verify later and helps maintain consistency if someone else wants to repeat the same test."
   ]
  },
  {
   "cell_type": "markdown",
   "id": "c851eef6",
   "metadata": {},
   "source": [
    "[The Curious Case of 42: Why Python Loves This Number for Randomization](https://medium.com/ai-simplified-in-plain-english/python-random-seed-42-125a3f2e068f) articule on the Medium website gives interesting explain of why the number 42 is often used by programmers."
   ]
  },
  {
   "cell_type": "code",
   "execution_count": 10,
   "id": "cdea7bcc",
   "metadata": {},
   "outputs": [],
   "source": [
    "# Set random seed for reproducibility\n",
    "np.random.seed(42)\n"
   ]
  },
  {
   "cell_type": "markdown",
   "id": "d0738f32",
   "metadata": {},
   "source": [
    "The experiment defines the total number of cups, specifying how many are milk-first and how many are tea-first."
   ]
  },
  {
   "cell_type": "code",
   "execution_count": 12,
   "id": "d958a5da",
   "metadata": {},
   "outputs": [],
   "source": [
    "# Total number of cups in the experiment\n",
    "total_cups = 12  \n",
    "\n",
    "# Number of cups where milk was poured first\n",
    "cups_milk_first = 4  \n",
    "\n",
    "# Number of cups where tea was poured first\n",
    "cups_tea_first = 8  \n"
   ]
  },
  {
   "cell_type": "markdown",
   "id": "fe703749",
   "metadata": {},
   "source": [
    "The theoretical probability of correctly identifying all milk-first cups will be calculated using combinatorics.\n",
    "The total number of unique combinations of milk-first cups is computed, and the probability of a perfect guess is derived."
   ]
  },
  {
   "cell_type": "markdown",
   "id": "5f291ca0",
   "metadata": {},
   "source": [
    "To find out how many ways the milk-first cups can be chosen from all cups, `numpy.arange` and `numpy.prod` are used.  \n",
    "`np.arange` creates a sequence of numbers corresponding to the numerator of the combination formula, and `np.prod` multiplies them together to get the total product.  \n",
    "This calculation gives the number of possible selections of milk-first cups **before considering the order** in which they appear.  \n",
    "For more details, see the [NumPy documentation on prod](https://numpy.org/doc/stable/reference/generated/numpy.prod.html) and [arange](https://numpy.org/doc/stable/reference/generated/numpy.arange.html)."
   ]
  },
  {
   "cell_type": "code",
   "execution_count": 22,
   "id": "ba89a44e",
   "metadata": {},
   "outputs": [
    {
     "name": "stdout",
     "output_type": "stream",
     "text": [
      "Theoretical probability of perfect guess: 0.00202020\n"
     ]
    }
   ],
   "source": [
    "# Combinatorial calculation of the probability of correctly guessing all milk-first cups\n",
    "\n",
    "# Number of ways to choose cups_milk_first cups from total_cups\n",
    "ways_to_choose = np.prod(np.arange(total_cups, total_cups - cups_milk_first, -1))\n",
    "\n",
    "# Number of ways to order the milk-first cups among themselves\n",
    "ways_to_order_milk = np.prod(np.arange(cups_milk_first, 0, -1))\n",
    "\n",
    "# Total number of unique combinations of milk-first cups\n",
    "total_combinations = ways_to_choose // ways_to_order_milk\n",
    "\n",
    "# Theoretical probability of correctly guessing all milk-first cups\n",
    "probability_theoretical = 1 / total_combinations\n",
    "\n",
    "print(f\"Theoretical probability of perfect guess: {probability_theoretical:.8f}\")\n"
   ]
  },
  {
   "cell_type": "markdown",
   "id": "45a8ca85",
   "metadata": {},
   "source": [
    "The theoretical probability provides a mathematical baseline for comparison."
   ]
  },
  {
   "cell_type": "markdown",
   "id": "6b08eb6f",
   "metadata": {},
   "source": [
    "Create the initial arrangement of cups before any shuffling takes place.\n",
    "To understand how to use `numpy.array`, please visit the official documentation: [NumPy Array](https://numpy.org/doc/stable/reference/generated/numpy.array.html).\n",
    "\n",
    "This array represents the true configuration of the experiment, where each cup is labelled as either milk-first ('M') or tea-first ('T'). "
   ]
  },
  {
   "cell_type": "code",
   "execution_count": null,
   "id": "e07f36b0",
   "metadata": {},
   "outputs": [
    {
     "name": "stdout",
     "output_type": "stream",
     "text": [
      "Initial cup setup: ['M' 'M' 'M' 'M' 'T' 'T' 'T' 'T' 'T' 'T' 'T' 'T']\n"
     ]
    }
   ],
   "source": [
    "# Define the true order of cups: 'M' for milk-first, 'T' for tea-first\n",
    "true_labels = np.array(['M'] * cups_milk_first + ['T'] * cups_tea_first)\n",
    "\n",
    "# Display the initial arrangement of cups\n",
    "print(\"Initial cup setup:\", true_labels)\n"
   ]
  },
  {
   "cell_type": "markdown",
   "id": "42a62c0d",
   "metadata": {},
   "source": [
    "With the theoretical framework established, the next stage focuses on hypothesis verification.  \n",
    "A Monte Carlo approach, a computational method that uses repeated random sampling to estimate probabilities, is applied to shuffle the cup arrangement many times and record outcomes where the participant correctly identifies all milk-first cups.  \n",
    "By comparing the proportion of perfect guesses obtained from these simulated trials with the theoretical probability, the validity of the null hypothesis can be examined empirically.  \n",
    "For more information, visit the [Monte Carlo method](https://en.wikipedia.org/wiki/Monte_Carlo_method) page on Wikipedia.\n"
   ]
  },
  {
   "cell_type": "markdown",
   "id": "d6439aa6",
   "metadata": {},
   "source": [
    "To shuffle the cups in each trial, `numpy.random.permutation` is used.  \n",
    "It creates a new array with the elements in random order, leaving the original array unchanged, which is useful for running multiple simulations.  \n",
    "See the [NumPy documentation on random.permutation](https://numpy.org/doc/stable/reference/random/generated/numpy.random.permutation.html) for more details.\n",
    "\n",
    "To model the participant picking cups at random, `numpy.random.choice` is used.  \n",
    "This lets you select a given number of elements from an array **without replacement**, so the same cup isn’t picked twice in the same trial.  \n",
    "More information can be found in the [NumPy documentation on random.choice](https://numpy.org/doc/stable/reference/random/generated/numpy.random.choice.html).\n",
    "\n",
    "To check whether all chosen cups are milk-first, `numpy.all` is applied.  \n",
    "It returns `True` only if **every element in a boolean array is True**, which is perfect for determining whether a perfect guess occurred in a trial.  \n",
    "For details, see the [NumPy documentation on all](https://numpy.org/doc/stable/reference/generated/numpy.all.html).\n"
   ]
  },
  {
   "cell_type": "code",
   "execution_count": null,
   "id": "1f3cac60",
   "metadata": {},
   "outputs": [],
   "source": [
    "# Number of simulation trials to estimate the probability of a perfect guess\n",
    "n_trials = 1_000_000\n",
    "\n",
    "# Counter for the number of perfect guesses observed\n",
    "successes = 0\n",
    "\n",
    "# Simulation to estimate the probability of a perfect guess\n",
    "for _ in range(n_trials):\n",
    "    # Randomize the cup arrangement each trial\n",
    "    randomized_labels = np.random.permutation(true_labels)\n",
    "    \n",
    "    # Lady randomly picks 4 cups\n",
    "    guessed_indices = np.random.choice(total_cups, cups_milk_first, replace=False)\n",
    "    \n",
    "    # Check if all guessed cups are milk-first\n",
    "    if np.all(randomized_labels[guessed_indices] == 'M'):\n",
    "        successes+= 1\n",
    "\n",
    "# Calculate the probability of a perfect guess\n",
    "p_value = successes/ n_trials\n",
    "p_value"
   ]
  },
  {
   "cell_type": "markdown",
   "id": "4ed82a9a",
   "metadata": {},
   "source": [
    "### Comparison with the Original 8-Cup Experiment"
   ]
  },
  {
   "cell_type": "markdown",
   "id": "3293df4b",
   "metadata": {},
   "source": [
    "Now that the extended 12-cup experiment has been simulated, the next step is to repeat the same calculation for the original Lady Tasting Tea design (8 cups: 4 milk-first and 4 tea-first).  \n",
    "This will allow a direct comparison of the probability of a perfect guess by chance between the two setups."
   ]
  },
  {
   "cell_type": "code",
   "execution_count": null,
   "id": "d1e10852",
   "metadata": {},
   "outputs": [],
   "source": [
    "# Theoretical probability for the original 8-cup experiment (4 milk-first, 4 tea-first)\n",
    "\n",
    "total_cups_original = 8\n",
    "cups_milk_first_original = 4\n",
    "\n",
    "# Number of ways to choose cups_milk_first_original cups from total_cups_original\n",
    "ways_to_choose_original = np.prod(np.arange(total_cups_original, total_cups_original - cups_milk_first_original, -1))\n",
    "\n",
    "# Number of ways to order the milk-first cups among themselves\n",
    "ways_to_order_milk_original = np.prod(np.arange(cups_milk_first_original, 0, -1))\n",
    "\n",
    "# Total number of unique combinations of milk-first cups\n",
    "total_combinations_original = ways_to_choose_original // ways_to_order_milk_original\n",
    "\n",
    "# Theoretical probability\n",
    "probability_theoretical_original = 1 / total_combinations_original\n",
    "\n",
    "print(f\"Theoretical probability (8-cup experiment): {probability_theoretical_original:.8f}\")\n"
   ]
  },
  {
   "cell_type": "code",
   "execution_count": null,
   "id": "c4d58e46",
   "metadata": {},
   "outputs": [],
   "source": [
    "# Monte Carlo simulation for the 8-cup (original) experiment\n",
    "\n",
    "total_cups = 8\n",
    "cups_milk_first = 4\n",
    "cups_tea_first = 4\n",
    "n_trials = 1_000_000\n",
    "\n",
    "# True labels\n",
    "true_labels = np.array(['M'] * cups_milk_first + ['T'] * cups_tea_first)\n",
    "\n",
    "# Counter for perfect guesses\n",
    "successes = 0\n",
    "\n",
    "# Simulation\n",
    "for _ in range(n_trials):\n",
    "    randomized_labels = np.random.permutation(true_labels)\n",
    "    guessed_indices = np.random.choice(total_cups, cups_milk_first, replace=False)\n",
    "    if np.all(randomized_labels[guessed_indices] == 'M'):\n",
    "        successes += 1\n",
    "\n",
    "# Empirical probability\n",
    "p_value_original = successes / n_trials\n",
    "print(f\"Simulated probability (8-cup experiment): {p_value_original:.8f}\")\n"
   ]
  }
 ],
 "metadata": {
  "kernelspec": {
   "display_name": "base",
   "language": "python",
   "name": "python3"
  },
  "language_info": {
   "codemirror_mode": {
    "name": "ipython",
    "version": 3
   },
   "file_extension": ".py",
   "mimetype": "text/x-python",
   "name": "python",
   "nbconvert_exporter": "python",
   "pygments_lexer": "ipython3",
   "version": "3.13.5"
  }
 },
 "nbformat": 4,
 "nbformat_minor": 5
}
