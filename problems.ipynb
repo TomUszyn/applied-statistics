{
 "cells": [
  {
   "cell_type": "markdown",
   "id": "e442231a",
   "metadata": {},
   "source": [
    "# Assessment Problems"
   ]
  },
  {
   "cell_type": "markdown",
   "id": "88e1cc2e",
   "metadata": {},
   "source": [
    "***\n",
    "***"
   ]
  },
  {
   "cell_type": "markdown",
   "id": "7675417c",
   "metadata": {},
   "source": [
    "## Problem 1: Extending the Lady Tasting Tea"
   ]
  },
  {
   "cell_type": "markdown",
   "id": "a1cae97d",
   "metadata": {},
   "source": [
    "---"
   ]
  },
  {
   "cell_type": "markdown",
   "id": "effddd41",
   "metadata": {},
   "source": [
    "### Research and Development"
   ]
  },
  {
   "cell_type": "markdown",
   "id": "44c2367e",
   "metadata": {},
   "source": [
    "---"
   ]
  },
  {
   "cell_type": "markdown",
   "id": "3634e001",
   "metadata": {},
   "source": [
    "#### Research Context"
   ]
  },
  {
   "cell_type": "markdown",
   "id": "c4b13158",
   "metadata": {},
   "source": [
    "The [*Lady Tasting Tea*](https://en.wikipedia.org/wiki/Lady_tasting_tea) experiment, introduced by Sir Ronald A. Fisher in 1935, is a classic example of **design of experiments** and **hypothesis testing**.\n",
    "A lady claimed she could distinguish whether milk was poured into a cup before or after the tea was added.\n",
    "\n",
    "The original experiment used eight cups: four milk-first ('M') and four tea-first ('T').\n",
    "The probability of perfectly identifying the milk-first cups by chance was very low (~0.0143).\n",
    "\n",
    "Extending the experiment to twelve cups, with four milk-first and eight tea-first, allows us to **estimate the likelihood of success by chance in a larger experiment**."
   ]
  },
  {
   "cell_type": "markdown",
   "id": "6488fe7a",
   "metadata": {},
   "source": [
    "---"
   ]
  },
  {
   "cell_type": "markdown",
   "id": "434a1291",
   "metadata": {},
   "source": [
    "#### Development Considerations"
   ]
  },
  {
   "cell_type": "markdown",
   "id": "f6282c22",
   "metadata": {},
   "source": [
    "* **Representation:** Using 'M' and 'T' provides a clear and simple way to distinguish between milk-first and tea-first cups.  \n",
    "* **Randomisation:** Each trial is independent, reflecting the null hypothesis.  \n",
    "* **Simulation scale:** The experiment uses simple loop-based logic to maintain clarity and transparency in the implementation. \n",
    "* **Statistical insight:** Demonstrates probability estimation with explicit loops.  "
   ]
  },
  {
   "cell_type": "markdown",
   "id": "59c79057",
   "metadata": {},
   "source": [
    "***"
   ]
  },
  {
   "cell_type": "markdown",
   "id": "7098bef8",
   "metadata": {},
   "source": [
    "#### Hypotheses"
   ]
  },
  {
   "cell_type": "markdown",
   "id": "369d0f8e",
   "metadata": {},
   "source": [
    "**Null Hypothesis (H₀):**  \n",
    "The lady cannot distinguish between milk-first and tea-first cups beyond random chance.  \n",
    "\n",
    "**Alternative Hypothesis (H₁):**  \n",
    "The lady can distinguish milk-first from tea-first cups with accuracy greater than chance."
   ]
  },
  {
   "cell_type": "markdown",
   "id": "567e7e21",
   "metadata": {},
   "source": [
    "---"
   ]
  },
  {
   "cell_type": "markdown",
   "id": "1c051ec0",
   "metadata": {},
   "source": [
    "### Experiment Setup"
   ]
  },
  {
   "cell_type": "markdown",
   "id": "06db7194",
   "metadata": {},
   "source": [
    "---"
   ]
  },
  {
   "cell_type": "markdown",
   "id": "06bf382d",
   "metadata": {},
   "source": [
    "The process begins with the import of NumPy, which provides the foundation for randomisation and numerical computations throughout the experiment."
   ]
  },
  {
   "cell_type": "code",
   "execution_count": 9,
   "id": "d2662756",
   "metadata": {},
   "outputs": [],
   "source": [
    "import numpy as np\n"
   ]
  },
  {
   "cell_type": "markdown",
   "id": "93d7f16d",
   "metadata": {},
   "source": [
    "Before running the experiment, a fixed random seed is set so that NumPy gives the same random choices every time. This makes the results easier to verify later and helps maintain consistency if someone else wants to repeat the same test."
   ]
  },
  {
   "cell_type": "markdown",
   "id": "c851eef6",
   "metadata": {},
   "source": [
    "[The Curious Case of 42: Why Python Loves This Number for Randomization](https://medium.com/ai-simplified-in-plain-english/python-random-seed-42-125a3f2e068f) articule on the Medium website gives interesting explain of why the number 42 is often used by programmers."
   ]
  },
  {
   "cell_type": "code",
   "execution_count": 10,
   "id": "cdea7bcc",
   "metadata": {},
   "outputs": [],
   "source": [
    "# Set random seed for reproducibility\n",
    "np.random.seed(42)\n"
   ]
  },
  {
   "cell_type": "markdown",
   "id": "d0738f32",
   "metadata": {},
   "source": [
    "The experiment defines the total number of cups, specifying how many are milk-first and how many are tea-first."
   ]
  },
  {
   "cell_type": "code",
   "execution_count": 12,
   "id": "d958a5da",
   "metadata": {},
   "outputs": [],
   "source": [
    "# Total number of cups in the experiment\n",
    "total_cups = 12  \n",
    "\n",
    "# Number of cups where milk was poured first\n",
    "cups_milk_first = 4  \n",
    "\n",
    "# Number of cups where tea was poured first\n",
    "cups_tea_first = 8  \n"
   ]
  },
  {
   "cell_type": "markdown",
   "id": "fe703749",
   "metadata": {},
   "source": [
    "The theoretical probability of correctly identifying all milk-first cups will be calculated using combinatorics.\n",
    "The total number of unique combinations of milk-first cups is computed, and the probability of a perfect guess is derived."
   ]
  },
  {
   "cell_type": "markdown",
   "id": "5f291ca0",
   "metadata": {},
   "source": [
    "To find out how many ways the milk-first cups can be chosen from all cups, `numpy.arange` and `numpy.prod` are used.  \n",
    "`np.arange` creates a sequence of numbers corresponding to the numerator of the combination formula, and `np.prod` multiplies them together to get the total product.  \n",
    "This calculation gives the number of possible selections of milk-first cups **before considering the order** in which they appear.  \n",
    "For more details, see the [NumPy documentation on prod](https://numpy.org/doc/stable/reference/generated/numpy.prod.html) and [arange](https://numpy.org/doc/stable/reference/generated/numpy.arange.html)."
   ]
  },
  {
   "cell_type": "code",
   "execution_count": 22,
   "id": "ba89a44e",
   "metadata": {},
   "outputs": [
    {
     "name": "stdout",
     "output_type": "stream",
     "text": [
      "Theoretical probability of perfect guess: 0.00202020\n"
     ]
    }
   ],
   "source": [
    "# Combinatorial calculation of the probability of correctly guessing all milk-first cups\n",
    "\n",
    "# Number of ways to choose cups_milk_first cups from total_cups\n",
    "ways_to_choose = np.prod(np.arange(total_cups, total_cups - cups_milk_first, -1))\n",
    "\n",
    "# Number of ways to order the milk-first cups among themselves\n",
    "ways_to_order_milk = np.prod(np.arange(cups_milk_first, 0, -1))\n",
    "\n",
    "# Total number of unique combinations of milk-first cups\n",
    "total_combinations = ways_to_choose // ways_to_order_milk\n",
    "\n",
    "# Theoretical probability of correctly guessing all milk-first cups\n",
    "probability_theoretical = 1 / total_combinations\n",
    "\n",
    "print(f\"Theoretical probability of perfect guess: {probability_theoretical:.8f}\")\n"
   ]
  },
  {
   "cell_type": "markdown",
   "id": "45a8ca85",
   "metadata": {},
   "source": [
    "The theoretical probability provides a mathematical baseline for comparison."
   ]
  },
  {
   "cell_type": "markdown",
   "id": "6b08eb6f",
   "metadata": {},
   "source": [
    "Create the initial arrangement of cups before any shuffling takes place.\n",
    "To understand how to use `numpy.array`, please visit the official documentation: [NumPy Array](https://numpy.org/doc/stable/reference/generated/numpy.array.html).\n",
    "\n",
    "This array represents the true configuration of the experiment, where each cup is labelled as either milk-first ('M') or tea-first ('T'). "
   ]
  },
  {
   "cell_type": "code",
   "execution_count": null,
   "id": "e07f36b0",
   "metadata": {},
   "outputs": [
    {
     "name": "stdout",
     "output_type": "stream",
     "text": [
      "Initial cup setup: ['M' 'M' 'M' 'M' 'T' 'T' 'T' 'T' 'T' 'T' 'T' 'T']\n"
     ]
    }
   ],
   "source": [
    "# Define the true order of cups: 'M' for milk-first, 'T' for tea-first\n",
    "true_labels = np.array(['M'] * cups_milk_first + ['T'] * cups_tea_first)\n",
    "\n",
    "# Display the initial arrangement of cups\n",
    "print(\"Initial cup setup:\", true_labels)\n"
   ]
  },
  {
   "cell_type": "markdown",
   "id": "42a62c0d",
   "metadata": {},
   "source": [
    "With the theoretical framework established, the next stage focuses on hypothesis verification.  \n",
    "A Monte Carlo approach, a computational method that uses repeated random sampling to estimate probabilities, is applied to shuffle the cup arrangement many times and record outcomes where the participant correctly identifies all milk-first cups.  \n",
    "By comparing the proportion of perfect guesses obtained from these simulated trials with the theoretical probability, the validity of the null hypothesis can be examined empirically.  \n",
    "For more information, visit the [Monte Carlo method](https://en.wikipedia.org/wiki/Monte_Carlo_method) page on Wikipedia.\n"
   ]
  },
  {
   "cell_type": "markdown",
   "id": "d6439aa6",
   "metadata": {},
   "source": [
    "To shuffle the cups in each trial, `numpy.random.permutation` is used.  \n",
    "It creates a new array with the elements in random order, leaving the original array unchanged, which is useful for running multiple simulations.  \n",
    "See the [NumPy documentation on random.permutation](https://numpy.org/doc/stable/reference/random/generated/numpy.random.permutation.html) for more details.\n",
    "\n",
    "To model the participant picking cups at random, `numpy.random.choice` is used.  \n",
    "This lets you select a given number of elements from an array **without replacement**, so the same cup isn’t picked twice in the same trial.  \n",
    "More information can be found in the [NumPy documentation on random.choice](https://numpy.org/doc/stable/reference/random/generated/numpy.random.choice.html).\n",
    "\n",
    "To check whether all chosen cups are milk-first, `numpy.all` is applied.  \n",
    "It returns `True` only if **every element in a boolean array is True**, which is perfect for determining whether a perfect guess occurred in a trial.  \n",
    "For details, see the [NumPy documentation on all](https://numpy.org/doc/stable/reference/generated/numpy.all.html).\n"
   ]
  },
  {
   "cell_type": "code",
   "execution_count": null,
   "id": "1f3cac60",
   "metadata": {},
   "outputs": [],
   "source": [
    "# Number of simulation trials to estimate the probability of a perfect guess\n",
    "n_trials = 1_000_000\n",
    "\n",
    "# Counter for the number of perfect guesses observed\n",
    "successes = 0\n",
    "\n",
    "# Simulation to estimate the probability of a perfect guess\n",
    "for _ in range(n_trials):\n",
    "    # Randomize the cup arrangement each trial\n",
    "    randomized_labels = np.random.permutation(true_labels)\n",
    "    \n",
    "    # Lady randomly picks 4 cups\n",
    "    guessed_indices = np.random.choice(total_cups, cups_milk_first, replace=False)\n",
    "    \n",
    "    # Check if all guessed cups are milk-first\n",
    "    if np.all(randomized_labels[guessed_indices] == 'M'):\n",
    "        successes+= 1\n",
    "\n",
    "# Calculate the probability of a perfect guess\n",
    "p_value = successes/ n_trials\n",
    "p_value"
   ]
  },
  {
   "cell_type": "markdown",
   "id": "4ed82a9a",
   "metadata": {},
   "source": [
    "### Comparison with the Original 8-Cup Experiment"
   ]
  },
  {
   "cell_type": "markdown",
   "id": "3293df4b",
   "metadata": {},
   "source": [
    "Now that the extended 12-cup experiment has been simulated, the next step is to repeat the same calculation for the original Lady Tasting Tea design (8 cups: 4 milk-first and 4 tea-first).  \n",
    "This will allow a direct comparison of the probability of a perfect guess by chance between the two setups."
   ]
  },
  {
   "cell_type": "code",
   "execution_count": null,
   "id": "d1e10852",
   "metadata": {},
   "outputs": [],
   "source": [
    "# Theoretical probability for the original 8-cup experiment (4 milk-first, 4 tea-first)\n",
    "\n",
    "total_cups_original = 8\n",
    "cups_milk_first_original = 4\n",
    "\n",
    "# Number of ways to choose cups_milk_first_original cups from total_cups_original\n",
    "ways_to_choose_original = np.prod(np.arange(total_cups_original, total_cups_original - cups_milk_first_original, -1))\n",
    "\n",
    "# Number of ways to order the milk-first cups among themselves\n",
    "ways_to_order_milk_original = np.prod(np.arange(cups_milk_first_original, 0, -1))\n",
    "\n",
    "# Total number of unique combinations of milk-first cups\n",
    "total_combinations_original = ways_to_choose_original // ways_to_order_milk_original\n",
    "\n",
    "# Theoretical probability\n",
    "probability_theoretical_original = 1 / total_combinations_original\n",
    "\n",
    "print(f\"Theoretical probability (8-cup experiment): {probability_theoretical_original:.8f}\")\n"
   ]
  },
  {
   "cell_type": "code",
   "execution_count": null,
   "id": "c4d58e46",
   "metadata": {},
   "outputs": [],
   "source": [
    "# Monte Carlo simulation for the 8-cup (original) experiment\n",
    "\n",
    "total_cups = 8\n",
    "cups_milk_first = 4\n",
    "cups_tea_first = 4\n",
    "n_trials = 1_000_000\n",
    "\n",
    "# True labels\n",
    "true_labels = np.array(['M'] * cups_milk_first + ['T'] * cups_tea_first)\n",
    "\n",
    "# Counter for perfect guesses\n",
    "successes = 0\n",
    "\n",
    "# Simulation\n",
    "for _ in range(n_trials):\n",
    "    randomized_labels = np.random.permutation(true_labels)\n",
    "    guessed_indices = np.random.choice(total_cups, cups_milk_first, replace=False)\n",
    "    if np.all(randomized_labels[guessed_indices] == 'M'):\n",
    "        successes += 1\n",
    "\n",
    "# Empirical probability\n",
    "p_value_original = successes / n_trials\n",
    "print(f\"Simulated probability (8-cup experiment): {p_value_original:.8f}\")\n"
   ]
  },
  {
   "cell_type": "markdown",
   "id": "9da4b7a7",
   "metadata": {},
   "source": [
    "### Conclusion"
   ]
  },
  {
   "cell_type": "code",
   "execution_count": null,
   "id": "d935115c",
   "metadata": {},
   "outputs": [],
   "source": [
    "print(\"Comparison of theoretical and simulated probabilities:\\n\")\n",
    "\n",
    "print(f\"Original 8-cup experiment (4M/4T):\")\n",
    "print(f\"  Theoretical probability: {probability_theoretical_original:.8f}\")\n",
    "print(f\"  Simulated probability:   {p_value_original:.8f}\\n\")\n",
    "\n",
    "print(f\"Extended 12-cup experiment (4M/8T):\")\n",
    "print(f\"  Theoretical probability: {probability_theoretical:.8f}\")\n",
    "print(f\"  Simulated probability:   {p_value:.8f}\\n\")\n",
    "\n",
    "print(\"Interpretation & Conclusion:\")\n",
    "print(f\"- For the original 8-cup experiment, the theoretical probability of a perfect guess is \"\n",
    "      f\"{probability_theoretical_original:.8f} and the simulated probability is {p_value_original:.8f}.\")\n",
    "print(f\"- For the extended 12-cup experiment, the theoretical probability of a perfect guess is \"\n",
    "      f\"{probability_theoretical:.8f} and the simulated probability is {p_value:.8f}.\")\n",
    "print(\"- The probability of a perfect guess decreases in the 12-cup version, making random success even less likely.\")\n",
    "print(\"- Using the conventional p-value threshold of 0.05 (not derived from this simulation),\\n\"\n",
    "      \"  a perfect guess in the 12-cup experiment would be highly unlikely under the null hypothesis.\")\n",
    "print(\"- Therefore, the standard p-value threshold remains appropriate, and the extended design naturally strengthens the test.\")\n",
    "print(\"Source: Groenland et al., 2019. Using History to Contextualise p-Values and Significance Testing. \"\n",
    "      \"PMC Article: https://www.ncbi.nlm.nih.gov/pmc/articles/PMC6693672/\")\n"
   ]
  },
  {
   "cell_type": "markdown",
   "id": "6e55477d",
   "metadata": {},
   "source": [
    "***"
   ]
  },
  {
   "cell_type": "markdown",
   "id": "33f0a4a4",
   "metadata": {},
   "source": [
    "## Problem 2: Normal Distribution"
   ]
  },
  {
   "cell_type": "markdown",
   "id": "54733a29",
   "metadata": {},
   "source": [
    "***"
   ]
  },
  {
   "cell_type": "markdown",
   "id": "6564a69e",
   "metadata": {},
   "source": [
    "### Theoretical Overview: Sample vs. Population Standard Deviation"
   ]
  },
  {
   "cell_type": "markdown",
   "id": "d090d4fa",
   "metadata": {},
   "source": [
    "***"
   ]
  },
  {
   "cell_type": "markdown",
   "id": "ce4fe30e",
   "metadata": {},
   "source": [
    "#### 1. What is Standard Deviation?\n",
    "\n",
    "**Standard deviation (SD)** measures how much the values in a dataset deviate from the mean.  \n",
    "- A **low SD** means values are close to the mean.  \n",
    "- A **high SD** means values are more spread out.  \n",
    "Population SD is denoted by **σ**, and sample SD by **s**.  \n",
    "For more information, visit the [Standard deviation](https://en.wikipedia.org/wiki/Standard_deviation) page on Wikipedia.\n",
    "\n",
    "\n",
    "#### 2. Population vs. Sample Standard Deviation\n",
    "\n",
    "- **Population SD (σ):** Used when you have **all the data**. Divides by **N**.  \n",
    "Learn more on the [NumPy `std()` documentation](https://numpy.org/doc/stable/reference/generated/numpy.std.html) page.\n",
    "\n",
    "- **Sample SD (s):** Used when you have a **subset of data**. Divides by **n − 1** (Bessel’s correction).  \n",
    "You can read about this on the [Bessel’s correction](https://en.wikipedia.org/wiki/Bessel%27s_correction) page on Wikipedia.\n",
    "\n",
    "\n",
    "#### 3. Why the Difference?\n",
    "\n",
    "Dividing by **n − 1** corrects for bias introduced by estimating the population mean from the sample mean.  \n",
    "For further details, see the [Bessel’s correction](https://en.wikipedia.org/wiki/Bessel%27s_correction) article.\n",
    "\n",
    "\n",
    "#### 4. In Practice\n",
    "\n",
    "- Use **Population SD (`ddof=0`)** if you have **all data**.  \n",
    "- Use **Sample SD (`ddof=1`)** if you only have a **sample**.  \n",
    "For guidance, visit the [Pandas `std()` documentation](https://pandas.pydata.org/docs/reference/api/pandas.DataFrame.std.html) page.\n",
    "\n",
    "\n",
    "#### 5. Software Defaults\n",
    "\n",
    "- **NumPy:** `ddof=0` - population SD  \n",
    "- **Pandas:** `ddof=1` - sample SD  \n",
    "More information is available on the [NumPy `std()` documentation](https://numpy.org/doc/stable/reference/generated/numpy.std.html) page."
   ]
  },
  {
   "cell_type": "markdown",
   "id": "37439a21",
   "metadata": {},
   "source": [
    "***"
   ]
  },
  {
   "cell_type": "markdown",
   "id": "8cfe41a1",
   "metadata": {},
   "source": [
    "### Research and Development: Effect of Sample Size on SD Estimation"
   ]
  },
  {
   "cell_type": "markdown",
   "id": "1ee1bf7f",
   "metadata": {},
   "source": [
    "***"
   ]
  },
  {
   "cell_type": "markdown",
   "id": "95b9bccc",
   "metadata": {},
   "source": [
    "**Purpose:**  \n",
    "\n",
    "- Understand why sample SD (`ddof=1`) and population SD (`ddof=0`) differ.  \n",
    "- Explore conceptually how differences in SD estimates decrease as sample size increases.  \n",
    "- This section sets the context for the computations that follow."
   ]
  },
  {
   "cell_type": "markdown",
   "id": "03c1cad5",
   "metadata": {},
   "source": [
    "***"
   ]
  },
  {
   "cell_type": "markdown",
   "id": "61a6a41e",
   "metadata": {},
   "source": [
    "### Step 1: Import Libraries\n",
    "\n",
    "We will use:\n",
    "\n",
    "- `numpy` for generating random samples and computing standard deviations.\n",
    "- `matplotlib.pyplot` for plotting histograms.\n"
   ]
  },
  {
   "cell_type": "code",
   "execution_count": 36,
   "id": "8b321cb7",
   "metadata": {},
   "outputs": [],
   "source": [
    "# Import NumPy for numerical computations\n",
    "import numpy as np\n",
    "# Import Matplotlib for plotting\n",
    "import matplotlib.pyplot as plt\n"
   ]
  },
  {
   "cell_type": "markdown",
   "id": "ef992044",
   "metadata": {},
   "source": [
    "#### Step 2: Generate 100,000 Samples of Size 10\n",
    "\n",
    "Each row represents a single sample of size 10 drawn from a standard normal distribution.\n"
   ]
  },
  {
   "cell_type": "markdown",
   "id": "733abb28",
   "metadata": {},
   "source": [
    "To generate random samples from the standard normal distribution, we use [`numpy.random.randn`](https://numpy.org/doc/stable/reference/random/generated/numpy.random.randn.html).  \n",
    "It creates an array of normally distributed random numbers with mean 0 and standard deviation 1.  \n",
    "Each row in the resulting array represents one sample of data.\n"
   ]
  },
  {
   "cell_type": "code",
   "execution_count": 37,
   "id": "ccc440aa",
   "metadata": {},
   "outputs": [],
   "source": [
    "# Number of samples and size of each sample\n",
    "num_samples = 100_000\n",
    "sample_size = 10\n",
    "\n",
    "# Generate samples from the standard normal distribution\n",
    "samples = np.random.randn(num_samples, sample_size)\n"
   ]
  },
  {
   "cell_type": "markdown",
   "id": "af106ea4",
   "metadata": {},
   "source": [
    "#### Step 3: Computing Sample and Population Standard Deviations\n",
    "\n",
    "To understand how much each sample varied, the standard deviation was calculated using [`numpy.std`](https://numpy.org/doc/stable/reference/generated/numpy.std.html), along `axis=1`.\n",
    "\n",
    "##### Why `axis=1`?\n",
    "\n",
    "Each row of the dataset represents a sample, and each column contains repeated measurements.  \n",
    "Using `axis=1` measures the spread **within each sample**.  \n",
    "If `axis=0` were used instead, it would measure the spread **across samples for each measurement**.  \n",
    "\n",
    "For a clear explanation of axes in NumPy, see [Understanding Axes in NumPy](https://medium.com/@weidagang/understanding-axes-in-numpy-8c889794e541).\n",
    "\n",
    "##### Sample vs Population Standard Deviation\n",
    "\n",
    "The `ddof` parameter determines whether the calculation treats the data as a sample or a population:  \n",
    "\n",
    "- `ddof=1` – Sample SD (unbiased estimate, divides by `n−1`)  \n",
    "- `ddof=0` – Population SD (divides by `n`, may slightly underestimate small samples)\n",
    "\n",
    "Full details can be found in the [NumPy documentation](https://numpy.org/doc/stable/reference/generated/numpy.std.html).  \n",
    "\n",
    "Setting these parameters correctly ensures the results reflect the true variability within each sample.\n"
   ]
  },
  {
   "cell_type": "code",
   "execution_count": 38,
   "id": "aea7b6ab",
   "metadata": {},
   "outputs": [],
   "source": [
    "# Compute sample standard deviation (unbiased, ddof=1)\n",
    "sample_sd = np.std(samples, axis=1, ddof=1)\n",
    "# Compute population standard deviation (biased, ddof=0)\n",
    "population_sd = np.std(samples, axis=1, ddof=0)\n"
   ]
  },
  {
   "cell_type": "markdown",
   "id": "3f9869dd",
   "metadata": {},
   "source": [
    "#### Step 4: Plotting Histograms of Sample and Population Standard Deviations\n"
   ]
  },
  {
   "cell_type": "markdown",
   "id": "dbd3f683",
   "metadata": {},
   "source": [
    "Computing Mean Standard Deviations\n",
    "\n",
    "To better interpret the histograms of standard deviations, we compute the **mean SD** for each method:\n",
    "\n",
    "- **Sample SD (`ddof=1`)**: gives an unbiased estimate of the population standard deviation.  \n",
    "- **Population SD (`ddof=0`)**: tends to underestimate the true standard deviation for small samples.\n",
    "\n",
    "By calculating the mean, we can clearly see which method is closer to the true SD (σ = 1) and compare the bias of the estimators."
   ]
  },
  {
   "cell_type": "code",
   "execution_count": 39,
   "id": "8f9fb523",
   "metadata": {},
   "outputs": [],
   "source": [
    "# Compute the mean standard deviation using the sample (unbiased) method\n",
    "mean_sample_sd = np.mean(sample_sd)\n",
    "\n",
    "# Compute the mean standard deviation using the population (biased) method\n",
    "mean_population_sd = np.mean(population_sd)\n"
   ]
  },
  {
   "cell_type": "markdown",
   "id": "57cbee73",
   "metadata": {},
   "source": [
    "To compare the variability of samples, histograms of the **sample SD** (`ddof=1`) and **population SD** (`ddof=0`) were plotted on the same axes.\n",
    "\n",
    "##### Why plot histograms?\n",
    "\n",
    "Histograms provide a **visual representation of the distribution** of data.  \n",
    "By plotting both sample and population SDs:\n",
    "\n",
    "- It is easy to see **how often each standard deviation occurs**.\n",
    "- Differences between the sample and population estimates become clear.\n",
    "- Patterns, trends, or anomalies in the data can be quickly identified.\n",
    "\n",
    "Using transparency (`alpha=0.5`) allows both distributions to be compared on the same plot without hiding either.  \n",
    "Normalizing the histograms (`density=True`) ensures they are on the **same scale**, so comparison is easier even if the number of bins or samples differs.\n",
    "\n",
    "##### How it is done in Python?\n",
    "\n",
    "The plot was created using [Matplotlib](https://matplotlib.org/stable/contents.html), the standard Python library for visualizing data.  \n",
    "Key features used:\n",
    "\n",
    "- `plt.hist()` to create histograms  \n",
    "- `bins` to control the resolution  \n",
    "- `alpha` to adjust transparency  \n",
    "- `density=True` to normalise  \n",
    "- `plt.xlabel()`, `plt.ylabel()`, `plt.title()` for labels and title  \n",
    "- `plt.legend()` for a clear legend  \n",
    "- `plt.grid()` for readability\n",
    "- `plt.show()` to show result  \n",
    "\n",
    "For more details, visit the [Matplotlib tutorial](https://matplotlib.org/stable/tutorials/introductory/pyplot.html) page."
   ]
  },
  {
   "cell_type": "code",
   "execution_count": 40,
   "id": "ff2017cc",
   "metadata": {},
   "outputs": [
    {
     "data": {
      "image/png": "[encoded data removed]",
      "text/plain": [
       "<Figure size 1000x600 with 1 Axes>"
      ]
     },
     "metadata": {},
     "output_type": "display_data"
    },
    {
     "name": "stdout",
     "output_type": "stream",
     "text": [
      "Average Sample SD (ddof=1): 0.9733468034463095\n",
      "Average Population SD (ddof=0): 0.9233978556403702\n"
     ]
    }
   ],
   "source": [
    "# # Plot histograms of sample and population standard deviations\n",
    "plt.figure(figsize=(10,6))\n",
    "\n",
    "# Plot histograms with transparency and normalisation\n",
    "plt.hist(sample_sd, bins=50, alpha=0.5, label='Sample SD (ddof=1)', color='blue', density=True)\n",
    "plt.hist(population_sd, bins=50, alpha=0.5, label='Population SD (ddof=0)', color='red', density=True)\n",
    "\n",
    "# Vertical lines: true SD and mean SDs\n",
    "plt.axvline(1, color='red', linestyle='dashed', linewidth=2, label='True SD')\n",
    "plt.axvline(mean_sample_sd, color='blue', linestyle='dotted', linewidth=2, label='Mean Sample SD')\n",
    "plt.axvline(mean_population_sd, color='green', linestyle='dotted', linewidth=2, label='Mean Population SD')\n",
    "\n",
    "\n",
    "# Labels and title\n",
    "plt.xlabel('Standard Deviation', fontsize=12, fontweight='bold')\n",
    "plt.ylabel('Density', fontsize=12, fontweight='bold')\n",
    "plt.title(\n",
    "    'Histogram of Standard Deviations\\nfor 100,000 Samples of Size 10',\n",
    "    fontsize=14,\n",
    "    fontweight='bold',\n",
    "    pad=20\n",
    ")\n",
    "\n",
    "# Add legend\n",
    "plt.legend()\n",
    "\n",
    "# Add a grid for better readability\n",
    "plt.grid(alpha=0.7, linestyle='--')\n",
    "\n",
    "# Display the plot\n",
    "plt.show()\n",
    "\n",
    "# Present the mean standard deviations\n",
    "print(\"Average Sample SD (ddof=1):\", mean_sample_sd)\n",
    "print(\"Average Population SD (ddof=0):\", mean_population_sd)\n",
    "\n"
   ]
  }
 ],
 "metadata": {
  "kernelspec": {
   "display_name": "base",
   "language": "python",
   "name": "python3"
  },
  "language_info": {
   "codemirror_mode": {
    "name": "ipython",
    "version": 3
   },
   "file_extension": ".py",
   "mimetype": "text/x-python",
   "name": "python",
   "nbconvert_exporter": "python",
   "pygments_lexer": "ipython3",
   "version": "3.13.5"
  }
 },
 "nbformat": 4,
 "nbformat_minor": 5
}
