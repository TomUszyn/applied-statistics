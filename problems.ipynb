{
 "cells": [
  {
   "cell_type": "markdown",
   "id": "e442231a",
   "metadata": {},
   "source": [
    "# Assessment Problems"
   ]
  },
  {
   "cell_type": "markdown",
   "id": "88e1cc2e",
   "metadata": {},
   "source": [
    "***\n",
    "***"
   ]
  },
  {
   "cell_type": "markdown",
   "id": "7675417c",
   "metadata": {},
   "source": [
    "## Problem 1: Extending the Lady Tasting Tea"
   ]
  },
  {
   "cell_type": "markdown",
   "id": "a1cae97d",
   "metadata": {},
   "source": [
    "---"
   ]
  },
  {
   "cell_type": "markdown",
   "id": "effddd41",
   "metadata": {},
   "source": [
    "### Research and Development"
   ]
  },
  {
   "cell_type": "markdown",
   "id": "44c2367e",
   "metadata": {},
   "source": [
    "---"
   ]
  },
  {
   "cell_type": "markdown",
   "id": "3634e001",
   "metadata": {},
   "source": [
    "#### Research Context"
   ]
  },
  {
   "cell_type": "markdown",
   "id": "c4b13158",
   "metadata": {},
   "source": [
    "The [*Lady Tasting Tea*](https://en.wikipedia.org/wiki/Lady_tasting_tea) experiment, introduced by Sir Ronald A. Fisher in 1935, is a classic example of **design of experiments** and **hypothesis testing**.\n",
    "A lady claimed she could distinguish whether milk was poured into a cup before or after the tea was added.\n",
    "\n",
    "The original experiment used eight cups: four milk-first ('M') and four tea-first ('T').\n",
    "The probability of perfectly identifying the milk-first cups by chance was very low (~0.0143).\n",
    "\n",
    "Extending the experiment to twelve cups, with four milk-first and eight tea-first, allows us to **estimate the likelihood of success by chance in a larger experiment**."
   ]
  },
  {
   "cell_type": "markdown",
   "id": "6488fe7a",
   "metadata": {},
   "source": [
    "---"
   ]
  },
  {
   "cell_type": "markdown",
   "id": "434a1291",
   "metadata": {},
   "source": [
    "#### Development Considerations"
   ]
  },
  {
   "cell_type": "markdown",
   "id": "f6282c22",
   "metadata": {},
   "source": [
    "* **Representation:** Using 'M' and 'T' provides a clear and simple way to distinguish between milk-first and tea-first cups.  \n",
    "* **Randomisation:** Each trial is independent, reflecting the null hypothesis.  \n",
    "* **Simulation scale:** The experiment uses simple loop-based logic to maintain clarity and transparency in the implementation. \n",
    "* **Statistical insight:** Demonstrates probability estimation with explicit loops.  "
   ]
  },
  {
   "cell_type": "markdown",
   "id": "59c79057",
   "metadata": {},
   "source": [
    "***"
   ]
  },
  {
   "cell_type": "markdown",
   "id": "1c051ec0",
   "metadata": {},
   "source": [
    "### Experiment Setup"
   ]
  },
  {
   "cell_type": "markdown",
   "id": "06db7194",
   "metadata": {},
   "source": [
    "---"
   ]
  },
  {
   "cell_type": "markdown",
   "id": "06bf382d",
   "metadata": {},
   "source": [
    "The process begins with the import of NumPy, which provides the foundation for randomisation and numerical computations throughout the experiment."
   ]
  },
  {
   "cell_type": "code",
   "execution_count": null,
   "id": "d2662756",
   "metadata": {},
   "outputs": [],
   "source": [
    "import numpy as np"
   ]
  },
  {
   "cell_type": "markdown",
   "id": "d0738f32",
   "metadata": {},
   "source": [
    "The experiment proceeds by defining the total number of cups, along with how many are milk-first and tea-first. A list is then created to represent the true arrangement of these cups."
   ]
  }
 ],
 "metadata": {
  "language_info": {
   "name": "python"
  }
 },
 "nbformat": 4,
 "nbformat_minor": 5
}
