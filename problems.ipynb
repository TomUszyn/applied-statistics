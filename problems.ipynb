{
 "cells": [
  {
   "cell_type": "markdown",
   "id": "e442231a",
   "metadata": {},
   "source": [
    "# Assessment Problems"
   ]
  },
  {
   "cell_type": "markdown",
   "id": "7675417c",
   "metadata": {},
   "source": [
    "## Problem 1: Extending the Lady Tasting Tea"
   ]
  },
  {
   "cell_type": "markdown",
   "id": "c4b13158",
   "metadata": {},
   "source": [
    "Let's extend the Lady Tasting Tea experiment as follows.\n",
    "The original experiment has 8 cups: 4 tea-first and 4 milk-first.\n",
    "Suppose we prepare 12 cups: 8 tea-first and 4 milk-first.\n",
    "A participant claims they can tell which was poured first."
   ]
  },
  {
   "cell_type": "markdown",
   "id": "2f19707c",
   "metadata": {},
   "source": [
    "Simulate this experiment using `numpy` by randomly shuffling the cups many times and calculating the probability of the participant correctly identifying all cups by chance.\n",
    "Compare your result with the original 8-cup experiment."
   ]
  }
 ],
 "metadata": {
  "language_info": {
   "name": "python"
  }
 },
 "nbformat": 4,
 "nbformat_minor": 5
}
