{
 "cells": [
  {
   "cell_type": "markdown",
   "id": "e442231a",
   "metadata": {},
   "source": [
    "# Assessment Problems"
   ]
  },
  {
   "cell_type": "markdown",
   "id": "88e1cc2e",
   "metadata": {},
   "source": [
    "***\n",
    "***"
   ]
  },
  {
   "cell_type": "markdown",
   "id": "7675417c",
   "metadata": {},
   "source": [
    "## Problem 1: Extending the Lady Tasting Tea"
   ]
  },
  {
   "cell_type": "markdown",
   "id": "a1cae97d",
   "metadata": {},
   "source": [
    "---"
   ]
  },
  {
   "cell_type": "markdown",
   "id": "effddd41",
   "metadata": {},
   "source": [
    "### Research and Development"
   ]
  },
  {
   "cell_type": "markdown",
   "id": "44c2367e",
   "metadata": {},
   "source": [
    "---"
   ]
  },
  {
   "cell_type": "markdown",
   "id": "3634e001",
   "metadata": {},
   "source": [
    "#### Research Context"
   ]
  },
  {
   "cell_type": "markdown",
   "id": "c4b13158",
   "metadata": {},
   "source": [
    "The [*Lady Tasting Tea*](https://en.wikipedia.org/wiki/Lady_tasting_tea) experiment, introduced by Sir Ronald A. Fisher in 1935, is a classic example of **design of experiments** and **hypothesis testing**.\n",
    "A lady claimed she could distinguish whether milk was poured into a cup before or after the tea was added.\n",
    "\n",
    "The original experiment used eight cups: four milk-first ('M') and four tea-first ('T').\n",
    "The probability of perfectly identifying the milk-first cups by chance was very low (~0.0143).\n",
    "\n",
    "Extending the experiment to twelve cups, with four milk-first and eight tea-first, allows us to **estimate the likelihood of success by chance in a larger experiment**."
   ]
  },
  {
   "cell_type": "markdown",
   "id": "6488fe7a",
   "metadata": {},
   "source": [
    "---"
   ]
  },
  {
   "cell_type": "markdown",
   "id": "434a1291",
   "metadata": {},
   "source": [
    "#### Development Considerations"
   ]
  },
  {
   "cell_type": "markdown",
   "id": "f6282c22",
   "metadata": {},
   "source": [
    "* **Representation:** Using 'M' and 'T' provides a clear and simple way to distinguish between milk-first and tea-first cups.  \n",
    "* **Randomisation:** Each trial is independent, reflecting the null hypothesis.  \n",
    "* **Simulation scale:** The experiment uses simple loop-based logic to maintain clarity and transparency in the implementation. \n",
    "* **Statistical insight:** Demonstrates probability estimation with explicit loops.  "
   ]
  },
  {
   "cell_type": "markdown",
   "id": "59c79057",
   "metadata": {},
   "source": [
    "***"
   ]
  },
  {
   "cell_type": "markdown",
   "id": "1c051ec0",
   "metadata": {},
   "source": [
    "### Experiment Setup"
   ]
  },
  {
   "cell_type": "markdown",
   "id": "06db7194",
   "metadata": {},
   "source": [
    "---"
   ]
  },
  {
   "cell_type": "markdown",
   "id": "06bf382d",
   "metadata": {},
   "source": [
    "The process begins with the import of NumPy, which provides the foundation for randomisation and numerical computations throughout the experiment."
   ]
  },
  {
   "cell_type": "code",
   "execution_count": null,
   "id": "d2662756",
   "metadata": {},
   "outputs": [],
   "source": [
    "import numpy as np\n"
   ]
  },
  {
   "cell_type": "markdown",
   "id": "93d7f16d",
   "metadata": {},
   "source": [
    "Before running the experiment, a fixed random seed is set so that NumPy gives the same random choices every time. This makes the results easier to verify later and helps maintain consistency if someone else wants to repeat the same test."
   ]
  },
  {
   "cell_type": "markdown",
   "id": "c851eef6",
   "metadata": {},
   "source": [
    "[The Curious Case of 42: Why Python Loves This Number for Randomization](https://medium.com/ai-simplified-in-plain-english/python-random-seed-42-125a3f2e068f) articule on the Medium website gives interesting explain of why the number 42 is often used by programmers."
   ]
  },
  {
   "cell_type": "code",
   "execution_count": null,
   "id": "cdea7bcc",
   "metadata": {},
   "outputs": [],
   "source": [
    "# Set random seed for reproducibility\n",
    "np.random.seed(42)\n"
   ]
  },
  {
   "cell_type": "markdown",
   "id": "d0738f32",
   "metadata": {},
   "source": [
    "The experiment proceeds by defining the total number of cups, along with how many are milk-first and tea-first."
   ]
  },
  {
   "cell_type": "code",
   "execution_count": null,
   "id": "d958a5da",
   "metadata": {},
   "outputs": [],
   "source": [
    "# Total cups and their distribution\n",
    "total_cups = 12\n",
    "milk_first = 4\n",
    "tea_first = 8\n"
   ]
  },
  {
   "cell_type": "markdown",
   "id": "78bd84b8",
   "metadata": {},
   "source": [
    "Set how many times the experiment will run and start counting successful guesses."
   ]
  },
  {
   "cell_type": "code",
   "execution_count": null,
   "id": "c9dacdac",
   "metadata": {},
   "outputs": [],
   "source": [
    "# Number of trials\n",
    "n_trials = 1_000_000\n",
    "successes = 0\n"
   ]
  },
  {
   "cell_type": "markdown",
   "id": "6b08eb6f",
   "metadata": {},
   "source": [
    "Create the initial arrangement of cups before any shuffling takes place.\n",
    "To understand how to use `numpy.array`, please visit the official documentation: [NumPy Array](https://numpy.org/doc/stable/reference/generated/numpy.array.html).\n"
   ]
  },
  {
   "cell_type": "code",
   "execution_count": null,
   "id": "e07f36b0",
   "metadata": {},
   "outputs": [],
   "source": [
    "# True labels\n",
    "true_labels = np.array(['M'] * milk_first + ['T'] * tea_first)\n",
    "\n",
    "# Print initial setup\n",
    "print(\"Initial cup setup:\", true_labels)\n"
   ]
  }
 ],
 "metadata": {
  "language_info": {
   "name": "python"
  }
 },
 "nbformat": 4,
 "nbformat_minor": 5
}
